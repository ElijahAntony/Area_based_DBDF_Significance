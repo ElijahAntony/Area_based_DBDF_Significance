{
 "cells": [
  {
   "cell_type": "code",
   "execution_count": 1,
   "id": "dee819a3",
   "metadata": {},
   "outputs": [],
   "source": [
    "import numpy as np\n",
    "import pandas as pd\n",
    "import scipy\n",
    "import matplotlib.pyplot as plt\n",
    "from scipy.stats import chi2_contingency\n"
   ]
  },
  {
   "cell_type": "code",
   "execution_count": 2,
   "id": "c68ff7bc",
   "metadata": {},
   "outputs": [],
   "source": [
    "df_ab = pd.read_csv('./airflow_significance/significance_all_areas.csv')"
   ]
  },
  {
   "cell_type": "code",
   "execution_count": 3,
   "id": "7de0f4cf",
   "metadata": {
    "scrolled": true
   },
   "outputs": [
    {
     "data": {
      "text/html": [
       "<div>\n",
       "<style scoped>\n",
       "    .dataframe tbody tr th:only-of-type {\n",
       "        vertical-align: middle;\n",
       "    }\n",
       "\n",
       "    .dataframe tbody tr th {\n",
       "        vertical-align: top;\n",
       "    }\n",
       "\n",
       "    .dataframe thead th {\n",
       "        text-align: right;\n",
       "    }\n",
       "</style>\n",
       "<table border=\"1\" class=\"dataframe\">\n",
       "  <thead>\n",
       "    <tr style=\"text-align: right;\">\n",
       "      <th></th>\n",
       "      <th>area_name</th>\n",
       "      <th>variant</th>\n",
       "      <th>session_count</th>\n",
       "      <th>converts</th>\n",
       "      <th>Non-converts</th>\n",
       "      <th>CVR</th>\n",
       "    </tr>\n",
       "  </thead>\n",
       "  <tbody>\n",
       "    <tr>\n",
       "      <th>0</th>\n",
       "      <td>Jahra - Saad Al Abdullah</td>\n",
       "      <td>Variation1</td>\n",
       "      <td>55816</td>\n",
       "      <td>3125</td>\n",
       "      <td>52691</td>\n",
       "      <td>5.60%</td>\n",
       "    </tr>\n",
       "    <tr>\n",
       "      <th>1</th>\n",
       "      <td>Salmiya</td>\n",
       "      <td>Variation3</td>\n",
       "      <td>55577</td>\n",
       "      <td>4509</td>\n",
       "      <td>51068</td>\n",
       "      <td>8.11%</td>\n",
       "    </tr>\n",
       "    <tr>\n",
       "      <th>2</th>\n",
       "      <td>Salmiya</td>\n",
       "      <td>Variation2</td>\n",
       "      <td>55539</td>\n",
       "      <td>4711</td>\n",
       "      <td>50828</td>\n",
       "      <td>8.48%</td>\n",
       "    </tr>\n",
       "    <tr>\n",
       "      <th>3</th>\n",
       "      <td>Salmiya</td>\n",
       "      <td>Variation4</td>\n",
       "      <td>55353</td>\n",
       "      <td>4490</td>\n",
       "      <td>50863</td>\n",
       "      <td>8.11%</td>\n",
       "    </tr>\n",
       "    <tr>\n",
       "      <th>4</th>\n",
       "      <td>Jahra - Saad Al Abdullah</td>\n",
       "      <td>Variation3</td>\n",
       "      <td>55242</td>\n",
       "      <td>2946</td>\n",
       "      <td>52296</td>\n",
       "      <td>5.33%</td>\n",
       "    </tr>\n",
       "    <tr>\n",
       "      <th>...</th>\n",
       "      <td>...</td>\n",
       "      <td>...</td>\n",
       "      <td>...</td>\n",
       "      <td>...</td>\n",
       "      <td>...</td>\n",
       "      <td>...</td>\n",
       "    </tr>\n",
       "    <tr>\n",
       "      <th>824</th>\n",
       "      <td>South Abdullah Al Mubarak</td>\n",
       "      <td>Variation4</td>\n",
       "      <td>12</td>\n",
       "      <td>0</td>\n",
       "      <td>12</td>\n",
       "      <td>0.00%</td>\n",
       "    </tr>\n",
       "    <tr>\n",
       "      <th>825</th>\n",
       "      <td>South Abdullah Al Mubarak</td>\n",
       "      <td>Variation1</td>\n",
       "      <td>10</td>\n",
       "      <td>0</td>\n",
       "      <td>10</td>\n",
       "      <td>0.00%</td>\n",
       "    </tr>\n",
       "    <tr>\n",
       "      <th>826</th>\n",
       "      <td>South Abdullah Al Mubarak</td>\n",
       "      <td>Variation3</td>\n",
       "      <td>10</td>\n",
       "      <td>0</td>\n",
       "      <td>10</td>\n",
       "      <td>0.00%</td>\n",
       "    </tr>\n",
       "    <tr>\n",
       "      <th>827</th>\n",
       "      <td>South Abdullah Al Mubarak</td>\n",
       "      <td>Control</td>\n",
       "      <td>9</td>\n",
       "      <td>0</td>\n",
       "      <td>9</td>\n",
       "      <td>0.00%</td>\n",
       "    </tr>\n",
       "    <tr>\n",
       "      <th>828</th>\n",
       "      <td>Talabat Island</td>\n",
       "      <td>Variation3</td>\n",
       "      <td>1</td>\n",
       "      <td>0</td>\n",
       "      <td>1</td>\n",
       "      <td>0.00%</td>\n",
       "    </tr>\n",
       "  </tbody>\n",
       "</table>\n",
       "<p>823 rows × 6 columns</p>\n",
       "</div>"
      ],
      "text/plain": [
       "                     area_name     variant  session_count  converts  \\\n",
       "0     Jahra - Saad Al Abdullah  Variation1          55816      3125   \n",
       "1                      Salmiya  Variation3          55577      4509   \n",
       "2                      Salmiya  Variation2          55539      4711   \n",
       "3                      Salmiya  Variation4          55353      4490   \n",
       "4     Jahra - Saad Al Abdullah  Variation3          55242      2946   \n",
       "..                         ...         ...            ...       ...   \n",
       "824  South Abdullah Al Mubarak  Variation4             12         0   \n",
       "825  South Abdullah Al Mubarak  Variation1             10         0   \n",
       "826  South Abdullah Al Mubarak  Variation3             10         0   \n",
       "827  South Abdullah Al Mubarak     Control              9         0   \n",
       "828             Talabat Island  Variation3              1         0   \n",
       "\n",
       "     Non-converts    CVR  \n",
       "0           52691  5.60%  \n",
       "1           51068  8.11%  \n",
       "2           50828  8.48%  \n",
       "3           50863  8.11%  \n",
       "4           52296  5.33%  \n",
       "..            ...    ...  \n",
       "824            12  0.00%  \n",
       "825            10  0.00%  \n",
       "826            10  0.00%  \n",
       "827             9  0.00%  \n",
       "828             1  0.00%  \n",
       "\n",
       "[823 rows x 6 columns]"
      ]
     },
     "execution_count": 3,
     "metadata": {},
     "output_type": "execute_result"
    }
   ],
   "source": [
    "df_ab.dropna(subset=['area_name'])"
   ]
  },
  {
   "cell_type": "code",
   "execution_count": 4,
   "id": "ca9309e1",
   "metadata": {},
   "outputs": [
    {
     "name": "stdout",
     "output_type": "stream",
     "text": [
      "0    Variation1\n",
      "1    Variation3\n",
      "2    Variation2\n",
      "3    Variation4\n",
      "5       Control\n",
      "9    Variation5\n",
      "Name: variant, dtype: object\n"
     ]
    }
   ],
   "source": [
    "var=df_ab['variant'].drop_duplicates()\n",
    "print(var)"
   ]
  },
  {
   "cell_type": "code",
   "execution_count": 5,
   "id": "29c98ce2",
   "metadata": {},
   "outputs": [
    {
     "name": "stdout",
     "output_type": "stream",
     "text": [
      "0    Variation1\n",
      "1    Variation3\n",
      "2    Variation2\n",
      "3    Variation4\n",
      "9    Variation5\n",
      "Name: variant, dtype: object\n"
     ]
    }
   ],
   "source": [
    "var=var.drop(5)\n",
    "print(var)"
   ]
  },
  {
   "cell_type": "code",
   "execution_count": 6,
   "id": "26193aff",
   "metadata": {},
   "outputs": [
    {
     "name": "stdout",
     "output_type": "stream",
     "text": [
      "['Variation1', 'Variation2', 'Variation3', 'Variation4', 'Variation5']\n"
     ]
    }
   ],
   "source": [
    "myorder = [0, 2, 1, 3, 9]\n",
    "var = [var[i] for i in myorder]\n",
    "print(var)"
   ]
  },
  {
   "cell_type": "code",
   "execution_count": 7,
   "id": "ebf94847",
   "metadata": {
    "scrolled": true
   },
   "outputs": [
    {
     "data": {
      "text/html": [
       "<div>\n",
       "<style scoped>\n",
       "    .dataframe tbody tr th:only-of-type {\n",
       "        vertical-align: middle;\n",
       "    }\n",
       "\n",
       "    .dataframe tbody tr th {\n",
       "        vertical-align: top;\n",
       "    }\n",
       "\n",
       "    .dataframe thead th {\n",
       "        text-align: right;\n",
       "    }\n",
       "</style>\n",
       "<table border=\"1\" class=\"dataframe\">\n",
       "  <thead>\n",
       "    <tr style=\"text-align: right;\">\n",
       "      <th></th>\n",
       "      <th>area_name</th>\n",
       "      <th>variant</th>\n",
       "      <th>session_count</th>\n",
       "      <th>converts</th>\n",
       "      <th>Non-converts</th>\n",
       "      <th>CVR</th>\n",
       "    </tr>\n",
       "  </thead>\n",
       "  <tbody>\n",
       "    <tr>\n",
       "      <th>0</th>\n",
       "      <td>Jahra - Saad Al Abdullah</td>\n",
       "      <td>Variation1</td>\n",
       "      <td>55816</td>\n",
       "      <td>3125</td>\n",
       "      <td>52691</td>\n",
       "      <td>5.60%</td>\n",
       "    </tr>\n",
       "    <tr>\n",
       "      <th>1</th>\n",
       "      <td>Salmiya</td>\n",
       "      <td>Variation3</td>\n",
       "      <td>55577</td>\n",
       "      <td>4509</td>\n",
       "      <td>51068</td>\n",
       "      <td>8.11%</td>\n",
       "    </tr>\n",
       "    <tr>\n",
       "      <th>2</th>\n",
       "      <td>Salmiya</td>\n",
       "      <td>Variation2</td>\n",
       "      <td>55539</td>\n",
       "      <td>4711</td>\n",
       "      <td>50828</td>\n",
       "      <td>8.48%</td>\n",
       "    </tr>\n",
       "    <tr>\n",
       "      <th>3</th>\n",
       "      <td>Salmiya</td>\n",
       "      <td>Variation4</td>\n",
       "      <td>55353</td>\n",
       "      <td>4490</td>\n",
       "      <td>50863</td>\n",
       "      <td>8.11%</td>\n",
       "    </tr>\n",
       "    <tr>\n",
       "      <th>4</th>\n",
       "      <td>Jahra - Saad Al Abdullah</td>\n",
       "      <td>Variation3</td>\n",
       "      <td>55242</td>\n",
       "      <td>2946</td>\n",
       "      <td>52296</td>\n",
       "      <td>5.33%</td>\n",
       "    </tr>\n",
       "  </tbody>\n",
       "</table>\n",
       "</div>"
      ],
      "text/plain": [
       "                  area_name     variant  session_count  converts  \\\n",
       "0  Jahra - Saad Al Abdullah  Variation1          55816      3125   \n",
       "1                   Salmiya  Variation3          55577      4509   \n",
       "2                   Salmiya  Variation2          55539      4711   \n",
       "3                   Salmiya  Variation4          55353      4490   \n",
       "4  Jahra - Saad Al Abdullah  Variation3          55242      2946   \n",
       "\n",
       "   Non-converts    CVR  \n",
       "0         52691  5.60%  \n",
       "1         51068  8.11%  \n",
       "2         50828  8.48%  \n",
       "3         50863  8.11%  \n",
       "4         52296  5.33%  "
      ]
     },
     "execution_count": 7,
     "metadata": {},
     "output_type": "execute_result"
    }
   ],
   "source": [
    "df_ab=df_ab.sort_values(['session_count','area_name','variant'],ascending=False)\n",
    "df_ab.head()"
   ]
  },
  {
   "cell_type": "code",
   "execution_count": 8,
   "id": "0ee7b062",
   "metadata": {},
   "outputs": [],
   "source": [
    "df_ab.rename(columns = {'Non-converts':'n_converts'}, inplace = True)\n"
   ]
  },
  {
   "cell_type": "code",
   "execution_count": 9,
   "id": "657e06a1",
   "metadata": {},
   "outputs": [],
   "source": [
    "#t=np.array([])\n",
    "area=df_ab['area_name'].drop_duplicates()\n",
    "area=area.dropna()\n",
    "#for x in area:\n",
    "   # for y in var:\n",
    "      # print(x,df_ab['variant'].loc[df_ab['variant']==y])\n",
    "     # print(x,df_ab.converts.loc[df_ab['variant']=='Control'], df_ab.n_converts.loc[df_ab['variant']==y])\n",
    "     #   t.append(x)\n",
    "      #  t= np.vstack(np.array([[df_ab.converts.loc[df_ab['variant']=='Control'],df_ab.n_converts.loc[df_ab['variant']=='Control']], [df_ab.converts.loc[df_ab['variant']==y] ,df_ab.n_converts.loc[df_ab['variant']==y]]]))\n",
    "      #  print(t)"
   ]
  },
  {
   "cell_type": "code",
   "execution_count": 18,
   "id": "864e367b",
   "metadata": {},
   "outputs": [
    {
     "data": {
      "text/plain": [
       "['Variation1', 'Variation2', 'Variation3', 'Variation4', 'Variation5']"
      ]
     },
     "execution_count": 18,
     "metadata": {},
     "output_type": "execute_result"
    }
   ],
   "source": [
    "var"
   ]
  },
  {
   "cell_type": "code",
   "execution_count": 58,
   "id": "3593629d",
   "metadata": {},
   "outputs": [
    {
     "ename": "ValueError",
     "evalue": "The internally computed table of expected frequencies has a zero element at (0, 0, 0).",
     "output_type": "error",
     "traceback": [
      "\u001b[1;31m---------------------------------------------------------------------------\u001b[0m",
      "\u001b[1;31mValueError\u001b[0m                                Traceback (most recent call last)",
      "Input \u001b[1;32mIn [58]\u001b[0m, in \u001b[0;36m<cell line: 2>\u001b[1;34m()\u001b[0m\n\u001b[0;32m      5\u001b[0m \u001b[38;5;28;01mfor\u001b[39;00m v \u001b[38;5;129;01min\u001b[39;00m var:\n\u001b[0;32m      6\u001b[0m     T \u001b[38;5;241m=\u001b[39m np\u001b[38;5;241m.\u001b[39marray([[a\u001b[38;5;241m.\u001b[39mconverts\u001b[38;5;241m.\u001b[39mloc[a\u001b[38;5;241m.\u001b[39mvariant\u001b[38;5;241m==\u001b[39m\u001b[38;5;124m'\u001b[39m\u001b[38;5;124mControl\u001b[39m\u001b[38;5;124m'\u001b[39m], a\u001b[38;5;241m.\u001b[39mn_converts\u001b[38;5;241m.\u001b[39mloc[a\u001b[38;5;241m.\u001b[39mvariant\u001b[38;5;241m==\u001b[39m\u001b[38;5;124m'\u001b[39m\u001b[38;5;124mControl\u001b[39m\u001b[38;5;124m'\u001b[39m]], [a\u001b[38;5;241m.\u001b[39mconverts\u001b[38;5;241m.\u001b[39mloc[a\u001b[38;5;241m.\u001b[39mvariant\u001b[38;5;241m==\u001b[39mv], a\u001b[38;5;241m.\u001b[39mn_converts\u001b[38;5;241m.\u001b[39mloc[a\u001b[38;5;241m.\u001b[39mvariant\u001b[38;5;241m==\u001b[39mv]]])\n\u001b[1;32m----> 7\u001b[0m     p1 \u001b[38;5;241m=\u001b[39m \u001b[43mscipy\u001b[49m\u001b[38;5;241;43m.\u001b[39;49m\u001b[43mstats\u001b[49m\u001b[38;5;241;43m.\u001b[39;49m\u001b[43mchi2_contingency\u001b[49m\u001b[43m(\u001b[49m\u001b[43mT\u001b[49m\u001b[43m,\u001b[49m\u001b[43mcorrection\u001b[49m\u001b[38;5;241;43m=\u001b[39;49m\u001b[38;5;28;43;01mFalse\u001b[39;49;00m\u001b[43m)\u001b[49m[\u001b[38;5;241m1\u001b[39m]\n\u001b[0;32m      8\u001b[0m     p_values\u001b[38;5;241m=\u001b[39mnp\u001b[38;5;241m.\u001b[39mappend(p_values,p1)\n",
      "File \u001b[1;32m~\\Anaconda3\\lib\\site-packages\\scipy\\stats\\contingency.py:276\u001b[0m, in \u001b[0;36mchi2_contingency\u001b[1;34m(observed, correction, lambda_)\u001b[0m\n\u001b[0;32m    272\u001b[0m \u001b[38;5;28;01mif\u001b[39;00m np\u001b[38;5;241m.\u001b[39many(expected \u001b[38;5;241m==\u001b[39m \u001b[38;5;241m0\u001b[39m):\n\u001b[0;32m    273\u001b[0m     \u001b[38;5;66;03m# Include one of the positions where expected is zero in\u001b[39;00m\n\u001b[0;32m    274\u001b[0m     \u001b[38;5;66;03m# the exception message.\u001b[39;00m\n\u001b[0;32m    275\u001b[0m     zeropos \u001b[38;5;241m=\u001b[39m \u001b[38;5;28mlist\u001b[39m(\u001b[38;5;28mzip\u001b[39m(\u001b[38;5;241m*\u001b[39mnp\u001b[38;5;241m.\u001b[39mnonzero(expected \u001b[38;5;241m==\u001b[39m \u001b[38;5;241m0\u001b[39m)))[\u001b[38;5;241m0\u001b[39m]\n\u001b[1;32m--> 276\u001b[0m     \u001b[38;5;28;01mraise\u001b[39;00m \u001b[38;5;167;01mValueError\u001b[39;00m(\u001b[38;5;124m\"\u001b[39m\u001b[38;5;124mThe internally computed table of expected \u001b[39m\u001b[38;5;124m\"\u001b[39m\n\u001b[0;32m    277\u001b[0m                      \u001b[38;5;124m\"\u001b[39m\u001b[38;5;124mfrequencies has a zero element at \u001b[39m\u001b[38;5;132;01m%s\u001b[39;00m\u001b[38;5;124m.\u001b[39m\u001b[38;5;124m\"\u001b[39m \u001b[38;5;241m%\u001b[39m (zeropos,))\n\u001b[0;32m    279\u001b[0m \u001b[38;5;66;03m# The degrees of freedom\u001b[39;00m\n\u001b[0;32m    280\u001b[0m dof \u001b[38;5;241m=\u001b[39m expected\u001b[38;5;241m.\u001b[39msize \u001b[38;5;241m-\u001b[39m \u001b[38;5;28msum\u001b[39m(expected\u001b[38;5;241m.\u001b[39mshape) \u001b[38;5;241m+\u001b[39m expected\u001b[38;5;241m.\u001b[39mndim \u001b[38;5;241m-\u001b[39m \u001b[38;5;241m1\u001b[39m\n",
      "\u001b[1;31mValueError\u001b[0m: The internally computed table of expected frequencies has a zero element at (0, 0, 0)."
     ]
    }
   ],
   "source": [
    "p_values = []\n",
    "for ar in area:\n",
    "    a=df_ab[df_ab['area_name']==ar]\n",
    "    p_values=np.append(p_values,ar)\n",
    "    for v in var:\n",
    "        T = np.array([[a.converts.loc[a.variant=='Control'], a.n_converts.loc[a.variant=='Control']], [a.converts.loc[a.variant==v], a.n_converts.loc[a.variant==v]]])\n",
    "        p1 = scipy.stats.chi2_contingency(T,correction=False)[1]\n",
    "        p_values=np.append(p_values,p1)\n",
    "      #  p_values.append(scipy.stats.chi2_contingency(T,correction=False)[1])\n",
    "#table = list(ar, p_values)\n",
    "#df2 = pd.DataFrame(table, columns=['test_name', 'p_value'])\n",
    "        #df['kpi_label'] = column_name\n"
   ]
  },
  {
   "cell_type": "code",
   "execution_count": 60,
   "id": "6bc09c63",
   "metadata": {},
   "outputs": [],
   "source": [
    "#appending 0s to make the array reshapable. Ideally delete the last entry [0 implies significance.]\n",
    "for i in range(5):\n",
    "    p_values=p_values=np.append(p_values,0)"
   ]
  },
  {
   "cell_type": "code",
   "execution_count": 61,
   "id": "a7c98496",
   "metadata": {},
   "outputs": [
    {
     "data": {
      "text/plain": [
       "(822,)"
      ]
     },
     "execution_count": 61,
     "metadata": {},
     "output_type": "execute_result"
    }
   ],
   "source": [
    "p_values.shape"
   ]
  },
  {
   "cell_type": "code",
   "execution_count": 62,
   "id": "e39e5142",
   "metadata": {},
   "outputs": [],
   "source": [
    "p_values=p_values.reshape(-1,6)"
   ]
  },
  {
   "cell_type": "code",
   "execution_count": 63,
   "id": "6f495ddd",
   "metadata": {},
   "outputs": [],
   "source": [
    "df_results=pd.DataFrame(p_values,columns=['area','Variation1','Variation2','Variation3','Variation4','Variation5'])"
   ]
  },
  {
   "cell_type": "code",
   "execution_count": 64,
   "id": "8a544317",
   "metadata": {},
   "outputs": [
    {
     "data": {
      "text/plain": [
       "area          object\n",
       "Variation1    object\n",
       "Variation2    object\n",
       "Variation3    object\n",
       "Variation4    object\n",
       "Variation5    object\n",
       "dtype: object"
      ]
     },
     "execution_count": 64,
     "metadata": {},
     "output_type": "execute_result"
    }
   ],
   "source": [
    "df_results.dtypes"
   ]
  },
  {
   "cell_type": "code",
   "execution_count": 65,
   "id": "fdeb843b",
   "metadata": {},
   "outputs": [],
   "source": [
    "convert_dict = {'area':object,\n",
    "                'Variation1':float,\n",
    "                'Variation2':float,\n",
    "                'Variation3':float,\n",
    "                'Variation4':float,\n",
    "                'Variation5':float,\n",
    "                }\n",
    "df_results = df_results.astype(convert_dict)"
   ]
  },
  {
   "cell_type": "code",
   "execution_count": 66,
   "id": "dc421428",
   "metadata": {},
   "outputs": [
    {
     "data": {
      "text/html": [
       "<div>\n",
       "<style scoped>\n",
       "    .dataframe tbody tr th:only-of-type {\n",
       "        vertical-align: middle;\n",
       "    }\n",
       "\n",
       "    .dataframe tbody tr th {\n",
       "        vertical-align: top;\n",
       "    }\n",
       "\n",
       "    .dataframe thead th {\n",
       "        text-align: right;\n",
       "    }\n",
       "</style>\n",
       "<table border=\"1\" class=\"dataframe\">\n",
       "  <thead>\n",
       "    <tr style=\"text-align: right;\">\n",
       "      <th></th>\n",
       "      <th>area</th>\n",
       "      <th>Variation1</th>\n",
       "      <th>Variation2</th>\n",
       "      <th>Variation3</th>\n",
       "      <th>Variation4</th>\n",
       "      <th>Variation5</th>\n",
       "    </tr>\n",
       "  </thead>\n",
       "  <tbody>\n",
       "    <tr>\n",
       "      <th>0</th>\n",
       "      <td>Jahra - Saad Al Abdullah</td>\n",
       "      <td>6.038871e-02</td>\n",
       "      <td>8.312423e-02</td>\n",
       "      <td>0.944058</td>\n",
       "      <td>0.002546</td>\n",
       "      <td>1.738087e-01</td>\n",
       "    </tr>\n",
       "    <tr>\n",
       "      <th>1</th>\n",
       "      <td>Salmiya</td>\n",
       "      <td>1.446080e-06</td>\n",
       "      <td>1.097790e-03</td>\n",
       "      <td>0.292990</td>\n",
       "      <td>0.297638</td>\n",
       "      <td>7.994589e-10</td>\n",
       "    </tr>\n",
       "    <tr>\n",
       "      <th>2</th>\n",
       "      <td>Sabah Al-Salem</td>\n",
       "      <td>1.857201e-10</td>\n",
       "      <td>1.722242e-07</td>\n",
       "      <td>0.000458</td>\n",
       "      <td>0.105765</td>\n",
       "      <td>2.381524e-02</td>\n",
       "    </tr>\n",
       "    <tr>\n",
       "      <th>3</th>\n",
       "      <td>Jaber Al Ahmad</td>\n",
       "      <td>7.623612e-02</td>\n",
       "      <td>3.544127e-03</td>\n",
       "      <td>0.009858</td>\n",
       "      <td>0.033929</td>\n",
       "      <td>7.374618e-01</td>\n",
       "    </tr>\n",
       "    <tr>\n",
       "      <th>4</th>\n",
       "      <td>Salwa</td>\n",
       "      <td>2.904787e-03</td>\n",
       "      <td>8.300491e-04</td>\n",
       "      <td>0.012842</td>\n",
       "      <td>0.070132</td>\n",
       "      <td>5.726219e-02</td>\n",
       "    </tr>\n",
       "  </tbody>\n",
       "</table>\n",
       "</div>"
      ],
      "text/plain": [
       "                       area    Variation1    Variation2  Variation3  \\\n",
       "0  Jahra - Saad Al Abdullah  6.038871e-02  8.312423e-02    0.944058   \n",
       "1                   Salmiya  1.446080e-06  1.097790e-03    0.292990   \n",
       "2            Sabah Al-Salem  1.857201e-10  1.722242e-07    0.000458   \n",
       "3            Jaber Al Ahmad  7.623612e-02  3.544127e-03    0.009858   \n",
       "4                     Salwa  2.904787e-03  8.300491e-04    0.012842   \n",
       "\n",
       "   Variation4    Variation5  \n",
       "0    0.002546  1.738087e-01  \n",
       "1    0.297638  7.994589e-10  \n",
       "2    0.105765  2.381524e-02  \n",
       "3    0.033929  7.374618e-01  \n",
       "4    0.070132  5.726219e-02  "
      ]
     },
     "execution_count": 66,
     "metadata": {},
     "output_type": "execute_result"
    }
   ],
   "source": [
    "df_results.head()"
   ]
  },
  {
   "cell_type": "code",
   "execution_count": 70,
   "id": "1d95b0c2",
   "metadata": {},
   "outputs": [
    {
     "data": {
      "text/html": [
       "<div>\n",
       "<style scoped>\n",
       "    .dataframe tbody tr th:only-of-type {\n",
       "        vertical-align: middle;\n",
       "    }\n",
       "\n",
       "    .dataframe tbody tr th {\n",
       "        vertical-align: top;\n",
       "    }\n",
       "\n",
       "    .dataframe thead th {\n",
       "        text-align: right;\n",
       "    }\n",
       "</style>\n",
       "<table border=\"1\" class=\"dataframe\">\n",
       "  <thead>\n",
       "    <tr style=\"text-align: right;\">\n",
       "      <th></th>\n",
       "      <th>area</th>\n",
       "      <th>Variation1</th>\n",
       "      <th>Variation2</th>\n",
       "      <th>Variation3</th>\n",
       "      <th>Variation4</th>\n",
       "      <th>Variation5</th>\n",
       "    </tr>\n",
       "  </thead>\n",
       "  <tbody>\n",
       "    <tr>\n",
       "      <th>0</th>\n",
       "      <td>Jahra - Saad Al Abdullah</td>\n",
       "      <td>3.019436e-01</td>\n",
       "      <td>4.156211e-01</td>\n",
       "      <td>4.720292</td>\n",
       "      <td>0.012729</td>\n",
       "      <td>8.690435e-01</td>\n",
       "    </tr>\n",
       "    <tr>\n",
       "      <th>1</th>\n",
       "      <td>Salmiya</td>\n",
       "      <td>7.230401e-06</td>\n",
       "      <td>5.488949e-03</td>\n",
       "      <td>1.464952</td>\n",
       "      <td>1.488191</td>\n",
       "      <td>3.997295e-09</td>\n",
       "    </tr>\n",
       "    <tr>\n",
       "      <th>2</th>\n",
       "      <td>Sabah Al-Salem</td>\n",
       "      <td>9.286003e-10</td>\n",
       "      <td>8.611209e-07</td>\n",
       "      <td>0.002288</td>\n",
       "      <td>0.528827</td>\n",
       "      <td>1.190762e-01</td>\n",
       "    </tr>\n",
       "    <tr>\n",
       "      <th>3</th>\n",
       "      <td>Jaber Al Ahmad</td>\n",
       "      <td>3.811806e-01</td>\n",
       "      <td>1.772064e-02</td>\n",
       "      <td>0.049290</td>\n",
       "      <td>0.169643</td>\n",
       "      <td>3.687309e+00</td>\n",
       "    </tr>\n",
       "    <tr>\n",
       "      <th>4</th>\n",
       "      <td>Salwa</td>\n",
       "      <td>1.452394e-02</td>\n",
       "      <td>4.150246e-03</td>\n",
       "      <td>0.064208</td>\n",
       "      <td>0.350662</td>\n",
       "      <td>2.863110e-01</td>\n",
       "    </tr>\n",
       "  </tbody>\n",
       "</table>\n",
       "</div>"
      ],
      "text/plain": [
       "                       area    Variation1    Variation2  Variation3  \\\n",
       "0  Jahra - Saad Al Abdullah  3.019436e-01  4.156211e-01    4.720292   \n",
       "1                   Salmiya  7.230401e-06  5.488949e-03    1.464952   \n",
       "2            Sabah Al-Salem  9.286003e-10  8.611209e-07    0.002288   \n",
       "3            Jaber Al Ahmad  3.811806e-01  1.772064e-02    0.049290   \n",
       "4                     Salwa  1.452394e-02  4.150246e-03    0.064208   \n",
       "\n",
       "   Variation4    Variation5  \n",
       "0    0.012729  8.690435e-01  \n",
       "1    1.488191  3.997295e-09  \n",
       "2    0.528827  1.190762e-01  \n",
       "3    0.169643  3.687309e+00  \n",
       "4    0.350662  2.863110e-01  "
      ]
     },
     "execution_count": 70,
     "metadata": {},
     "output_type": "execute_result"
    }
   ],
   "source": [
    "#bonferroni's correction\n",
    "df_results[df_results.select_dtypes(include=['number']).columns]*=5\n",
    "df_results.head()"
   ]
  },
  {
   "cell_type": "code",
   "execution_count": 71,
   "id": "0a15a127",
   "metadata": {},
   "outputs": [],
   "source": [
    "from pathlib import Path  \n",
    "filepath = Path('./airflow_significance/chi2_values.csv')  \n",
    "#filepath.parent.mkdir(parents=True, exist_ok=True)  \n",
    "df_results.to_csv(filepath)  \n",
    "#area.to_csv(index=True)"
   ]
  }
 ],
 "metadata": {
  "kernelspec": {
   "display_name": "Python 3 (ipykernel)",
   "language": "python",
   "name": "python3"
  },
  "language_info": {
   "codemirror_mode": {
    "name": "ipython",
    "version": 3
   },
   "file_extension": ".py",
   "mimetype": "text/x-python",
   "name": "python",
   "nbconvert_exporter": "python",
   "pygments_lexer": "ipython3",
   "version": "3.9.12"
  }
 },
 "nbformat": 4,
 "nbformat_minor": 5
}
